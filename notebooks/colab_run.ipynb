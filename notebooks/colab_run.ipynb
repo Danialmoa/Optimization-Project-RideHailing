{
  "cells": [
    {
      "cell_type": "markdown",
      "source": [
        "Clone repository and setup"
      ],
      "metadata": {
        "id": "WTSVwQfKiiQQ"
      }
    },
    {
      "cell_type": "code",
      "execution_count": 1,
      "metadata": {
        "vscode": {
          "languageId": "plaintext"
        },
        "id": "JqpLeaHziZHY",
        "outputId": "80bf2255-63c6-4037-d629-49961eabeb2b",
        "colab": {
          "base_uri": "https://localhost:8080/"
        }
      },
      "outputs": [
        {
          "output_type": "stream",
          "name": "stdout",
          "text": [
            "Cloning into 'Optimization-Project-RideHailing'...\n",
            "remote: Enumerating objects: 157, done.\u001b[K\n",
            "remote: Counting objects: 100% (157/157), done.\u001b[K\n",
            "remote: Compressing objects: 100% (104/104), done.\u001b[K\n",
            "remote: Total 157 (delta 64), reused 137 (delta 46), pack-reused 0 (from 0)\u001b[K\n",
            "Receiving objects: 100% (157/157), 513.73 KiB | 1.85 MiB/s, done.\n",
            "Resolving deltas: 100% (64/64), done.\n",
            "Obtaining file:///content\n",
            "\u001b[31mERROR: file:///content does not appear to be a Python project: neither 'setup.py' nor 'pyproject.toml' found.\u001b[0m\u001b[31m\n",
            "\u001b[0m"
          ]
        }
      ],
      "source": [
        "!git clone https://github.com/Danialmoa/Optimization-Project-RideHailing.git\n",
        "!cd Optimization-Project-RideHailing\n",
        "!pip install -e ."
      ]
    },
    {
      "cell_type": "code",
      "execution_count": null,
      "metadata": {
        "vscode": {
          "languageId": "plaintext"
        },
        "id": "FP64_DcqiZHa"
      },
      "outputs": [],
      "source": []
    }
  ],
  "metadata": {
    "language_info": {
      "name": "python"
    },
    "colab": {
      "provenance": []
    },
    "kernelspec": {
      "name": "python3",
      "display_name": "Python 3"
    }
  },
  "nbformat": 4,
  "nbformat_minor": 0
}