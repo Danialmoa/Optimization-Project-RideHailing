{
 "cells": [
  {
   "cell_type": "markdown",
   "metadata": {},
   "source": [
    "Clone repository and setup"
   ]
  },
  {
   "cell_type": "code",
   "execution_count": null,
   "metadata": {
    "vscode": {
     "languageId": "plaintext"
    }
   },
   "outputs": [],
   "source": [
    "!git clone https://github.com/Danialmoa/Optimization-Project-RideHailing.git\n",
    "%cd Optimization-Project-RideHailing\n",
    "!pip install -e . "
   ]
  },
  {
   "cell_type": "code",
   "execution_count": null,
   "metadata": {
    "vscode": {
     "languageId": "plaintext"
    }
   },
   "outputs": [],
   "source": [
    "from main import OptimizerModel\n",
    "from main import OptimizerModel\n",
    "from models.driver import Driver\n",
    "from models.map import Map\n",
    "from models.ride import Ride"
   ]
  },
  {
   "cell_type": "code",
   "execution_count": null,
   "metadata": {
    "vscode": {
     "languageId": "plaintext"
    }
   },
   "outputs": [],
   "source": [
    "rides = pd.read_csv('data/databases/rides.csv')\n",
    "rides = [Ride(**ride) for ride in rides.to_dict(orient='records')]\n",
    "\n",
    "# start from 8 to 22\n",
    "driver = Driver(start_time=8 * 60, end_time=22 * 60, start_location='871e80420ffffff', end_location='871e80420ffffff')\n",
    "map = Map()\n",
    "\n",
    "optimizer = OptimizerModel(rides, driver, map)\n",
    "optimizer.optimize()\n",
    "result_df = optimizer.get_results()"
   ]
  }
 ],
 "metadata": {
  "language_info": {
   "name": "python"
  }
 },
 "nbformat": 4,
 "nbformat_minor": 2
}
